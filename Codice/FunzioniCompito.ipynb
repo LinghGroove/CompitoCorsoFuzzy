{
  "nbformat": 4,
  "nbformat_minor": 0,
  "metadata": {
    "colab": {
      "name": "Untitled3.ipynb",
      "provenance": []
    },
    "kernelspec": {
      "name": "python3",
      "display_name": "Python 3"
    }
  },
  "cells": [
    {
      "cell_type": "code",
      "metadata": {
        "colab": {
          "base_uri": "https://localhost:8080/"
        },
        "id": "IenI_5tP_iyP",
        "outputId": "55cbee00-66d5-49b0-edc0-19bc7fefa6af"
      },
      "source": [
        "# A or (not A)\r\n",
        "\r\n",
        "def funa(var1):  #funa è fun che sta per funzione e A che è A...\r\n",
        "  return var1 or (not var1) #ho fatto come dalla traccia che la funzione restituisce\r\n",
        "                            # l'OR tra A e un A negato \r\n",
        "def call(funa): \r\n",
        "  neg_pos = (False, True)\r\n",
        "  for A in neg_pos:\r\n",
        "    print(f'{A} OR (NOT {A}) = {funa(A)}') #la stampo\r\n",
        "\r\n",
        "call(funa)"
      ],
      "execution_count": 9,
      "outputs": [
        {
          "output_type": "stream",
          "text": [
            "False OR (NOT False) = True\n",
            "True OR (NOT True) = True\n"
          ],
          "name": "stdout"
        }
      ]
    },
    {
      "cell_type": "code",
      "metadata": {
        "colab": {
          "base_uri": "https://localhost:8080/"
        },
        "id": "GWrHdkjyCKEO",
        "outputId": "b4205696-8d7a-44f1-d53a-1ba5986bf42c"
      },
      "source": [
        "# not A -> B\r\n",
        "\r\n",
        "\r\n",
        "def funab(var1, var2): # stessa cosa di prima funzione a - b\r\n",
        "  return (not (not var1) or var2)\r\n",
        "\r\n",
        "def call(funab):\r\n",
        "  neg_pos = (False, True)\r\n",
        "  for A in neg_pos:\r\n",
        "    for B in neg_pos:\r\n",
        "     print(f'NOT {A} -> {B} = {funab(A,B)} ') \r\n",
        "\r\n",
        "call(funab)"
      ],
      "execution_count": 12,
      "outputs": [
        {
          "output_type": "stream",
          "text": [
            "NOT False -> False = False \n",
            "NOT False -> True = True \n",
            "NOT True -> False = True \n",
            "NOT True -> True = True \n"
          ],
          "name": "stdout"
        }
      ]
    }
  ]
}